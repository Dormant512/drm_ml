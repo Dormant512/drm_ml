{
 "cells": [
  {
   "cell_type": "code",
   "execution_count": 2,
   "id": "7d58c93e",
   "metadata": {},
   "outputs": [],
   "source": [
    "#import warnings\n",
    "import numpy as np\n",
    "%matplotlib inline\n",
    "import seaborn as sns\n",
    "import matplotlib.pyplot as plt\n",
    "import keras.backend as K\n",
    "from keras.layers import Input, Dense, Flatten, Reshape, Conv2D, MaxPooling2D, UpSampling2D, Lambda\n",
    "from keras.models import Model\n",
    "from keras.regularizers import L1L2\n",
    "from keras.datasets import mnist"
   ]
  },
  {
   "cell_type": "code",
   "execution_count": 4,
   "id": "2146638f",
   "metadata": {},
   "outputs": [
    {
     "name": "stdout",
     "output_type": "stream",
     "text": [
      "Num GPUs Available:  0\n"
     ]
    }
   ],
   "source": [
    "import tensorflow as tf\n",
    "print(\"Num GPUs Available: \", len(tf.config.list_physical_devices(\"GPU\")))\n",
    "#tf.debugging.set_log_device_placement(True)"
   ]
  },
  {
   "cell_type": "code",
   "execution_count": 5,
   "id": "a0ce7480",
   "metadata": {},
   "outputs": [],
   "source": [
    "(x_train, y_train), (x_test, y_test) = mnist.load_data()\n",
    "\n",
    "x_train = x_train.astype('float32') / 255.\n",
    "x_test  = x_test .astype('float32') / 255.\n",
    "x_train = np.reshape(x_train, (len(x_train), 28, 28, 1))\n",
    "x_test  = np.reshape(x_test,  (len(x_test),  28, 28, 1))"
   ]
  },
  {
   "cell_type": "code",
   "execution_count": 7,
   "id": "87a8b718",
   "metadata": {},
   "outputs": [],
   "source": [
    "# Convolutional autoencoder\n",
    "def create_deep_conv_ae():\n",
    "    input_img = Input(shape=(28, 28, 1))\n",
    "\n",
    "    x = Conv2D(128, (7, 7), activation='relu', padding='same')(input_img)\n",
    "    x = MaxPooling2D((2, 2), padding='same')(x)\n",
    "    x = Conv2D(32, (2, 2), activation='relu', padding='same')(x)\n",
    "    x = MaxPooling2D((2, 2), padding='same')(x)\n",
    "    encoded = Conv2D(1, (7, 7), activation='relu', padding='same')(x)\n",
    "\n",
    "    # Representation dim is (7, 7, 1)\n",
    "\n",
    "    input_encoded = Input(shape=(7, 7, 1))\n",
    "    x = Conv2D(32, (7, 7), activation='relu', padding='same')(input_encoded)\n",
    "    x = UpSampling2D((2, 2))(x)\n",
    "    x = Conv2D(128, (2, 2), activation='relu', padding='same')(x)\n",
    "    x = UpSampling2D((2, 2))(x)\n",
    "    decoded = Conv2D(1, (7, 7), activation='sigmoid', padding='same')(x)\n",
    "\n",
    "    # Models\n",
    "    encoder = Model(input_img, encoded, name=\"encoder\")\n",
    "    decoder = Model(input_encoded, decoded, name=\"decoder\")\n",
    "    autoencoder = Model(input_img, decoder(encoder(input_img)), name=\"autoencoder\")\n",
    "    return encoder, decoder, autoencoder\n",
    "\n",
    "c_encoder, c_decoder, c_autoencoder = create_deep_conv_ae()\n",
    "c_autoencoder.compile(optimizer='adam', loss='binary_crossentropy')"
   ]
  },
  {
   "cell_type": "code",
   "execution_count": 8,
   "id": "b10c5ac5",
   "metadata": {
    "scrolled": true
   },
   "outputs": [
    {
     "name": "stdout",
     "output_type": "stream",
     "text": [
      "Epoch 1/50\n"
     ]
    },
    {
     "name": "stderr",
     "output_type": "stream",
     "text": [
      "2022-09-19 23:16:46.797724: I tensorflow/stream_executor/cuda/cuda_dnn.cc:384] Loaded cuDNN version 8100\n",
      "2022-09-19 23:16:47.252477: I tensorflow/core/platform/default/subprocess.cc:304] Start cannot spawn child process: No such file or directory\n",
      "2022-09-19 23:16:47.253016: I tensorflow/core/platform/default/subprocess.cc:304] Start cannot spawn child process: No such file or directory\n",
      "2022-09-19 23:16:47.253035: W tensorflow/stream_executor/gpu/asm_compiler.cc:80] Couldn't get ptxas version string: INTERNAL: Couldn't invoke ptxas --version\n",
      "2022-09-19 23:16:47.253538: I tensorflow/core/platform/default/subprocess.cc:304] Start cannot spawn child process: No such file or directory\n",
      "2022-09-19 23:16:47.253586: W tensorflow/stream_executor/gpu/redzone_allocator.cc:314] INTERNAL: Failed to launch ptxas\n",
      "Relying on driver to perform ptx compilation. \n",
      "Modify $PATH to customize ptxas location.\n",
      "This message will be only logged once.\n",
      "2022-09-19 23:16:47.868912: W tensorflow/core/common_runtime/bfc_allocator.cc:290] Allocator (GPU_0_bfc) ran out of memory trying to allocate 4.71GiB with freed_by_count=0. The caller indicates that this is not a failure, but this may mean that there could be performance gains if more memory were available.\n",
      "2022-09-19 23:16:47.868941: W tensorflow/core/common_runtime/bfc_allocator.cc:290] Allocator (GPU_0_bfc) ran out of memory trying to allocate 4.71GiB with freed_by_count=0. The caller indicates that this is not a failure, but this may mean that there could be performance gains if more memory were available.\n"
     ]
    },
    {
     "name": "stdout",
     "output_type": "stream",
     "text": [
      "235/235 [==============================] - 15s 52ms/step - loss: 0.1913 - val_loss: 0.1021\n",
      "Epoch 2/50\n",
      "235/235 [==============================] - 11s 46ms/step - loss: 0.0974 - val_loss: 0.0922\n",
      "Epoch 3/50\n",
      "235/235 [==============================] - 11s 48ms/step - loss: 0.0905 - val_loss: 0.0864\n",
      "Epoch 4/50\n",
      "235/235 [==============================] - 12s 49ms/step - loss: 0.0866 - val_loss: 0.0837\n",
      "Epoch 5/50\n",
      "235/235 [==============================] - 12s 49ms/step - loss: 0.0840 - val_loss: 0.0814\n",
      "Epoch 6/50\n",
      "235/235 [==============================] - 12s 49ms/step - loss: 0.0820 - val_loss: 0.0799\n",
      "Epoch 7/50\n",
      "235/235 [==============================] - 11s 49ms/step - loss: 0.0808 - val_loss: 0.0788\n",
      "Epoch 8/50\n",
      "235/235 [==============================] - 12s 49ms/step - loss: 0.0798 - val_loss: 0.0780\n",
      "Epoch 9/50\n",
      "235/235 [==============================] - 12s 50ms/step - loss: 0.0789 - val_loss: 0.0777\n",
      "Epoch 10/50\n",
      "235/235 [==============================] - 11s 45ms/step - loss: 0.0782 - val_loss: 0.0768\n",
      "Epoch 11/50\n",
      "235/235 [==============================] - 12s 49ms/step - loss: 0.0776 - val_loss: 0.0770\n",
      "Epoch 12/50\n",
      "235/235 [==============================] - 12s 50ms/step - loss: 0.0772 - val_loss: 0.0758\n",
      "Epoch 13/50\n",
      "235/235 [==============================] - 12s 50ms/step - loss: 0.0769 - val_loss: 0.0756\n",
      "Epoch 14/50\n",
      "235/235 [==============================] - 12s 50ms/step - loss: 0.0762 - val_loss: 0.0749\n",
      "Epoch 15/50\n",
      "235/235 [==============================] - 12s 50ms/step - loss: 0.0759 - val_loss: 0.0746\n",
      "Epoch 16/50\n",
      "235/235 [==============================] - 12s 50ms/step - loss: 0.0758 - val_loss: 0.0756\n",
      "Epoch 17/50\n",
      "235/235 [==============================] - 12s 50ms/step - loss: 0.0753 - val_loss: 0.0744\n",
      "Epoch 18/50\n",
      "235/235 [==============================] - 12s 50ms/step - loss: 0.0752 - val_loss: 0.0749\n",
      "Epoch 19/50\n",
      "235/235 [==============================] - 12s 51ms/step - loss: 0.0749 - val_loss: 0.0741\n",
      "Epoch 20/50\n",
      "235/235 [==============================] - 12s 50ms/step - loss: 0.0746 - val_loss: 0.0737\n",
      "Epoch 21/50\n",
      "235/235 [==============================] - 12s 49ms/step - loss: 0.0745 - val_loss: 0.0736\n",
      "Epoch 22/50\n",
      "235/235 [==============================] - 12s 50ms/step - loss: 0.0742 - val_loss: 0.0732\n",
      "Epoch 23/50\n",
      "235/235 [==============================] - 12s 50ms/step - loss: 0.0740 - val_loss: 0.0729\n",
      "Epoch 24/50\n",
      "235/235 [==============================] - 12s 50ms/step - loss: 0.0739 - val_loss: 0.0729\n",
      "Epoch 25/50\n",
      "235/235 [==============================] - 12s 50ms/step - loss: 0.0737 - val_loss: 0.0727\n",
      "Epoch 26/50\n",
      "235/235 [==============================] - 12s 50ms/step - loss: 0.0736 - val_loss: 0.0725\n",
      "Epoch 27/50\n",
      "235/235 [==============================] - 12s 50ms/step - loss: 0.0735 - val_loss: 0.0732\n",
      "Epoch 28/50\n",
      "235/235 [==============================] - 12s 50ms/step - loss: 0.0733 - val_loss: 0.0724\n",
      "Epoch 29/50\n",
      "235/235 [==============================] - 12s 50ms/step - loss: 0.0732 - val_loss: 0.0722\n",
      "Epoch 30/50\n",
      "235/235 [==============================] - 12s 49ms/step - loss: 0.0731 - val_loss: 0.0724\n",
      "Epoch 31/50\n",
      "235/235 [==============================] - 12s 49ms/step - loss: 0.0730 - val_loss: 0.0725\n",
      "Epoch 32/50\n",
      "235/235 [==============================] - 12s 49ms/step - loss: 0.0729 - val_loss: 0.0719\n",
      "Epoch 33/50\n",
      "235/235 [==============================] - 12s 50ms/step - loss: 0.0728 - val_loss: 0.0719\n",
      "Epoch 34/50\n",
      "235/235 [==============================] - 12s 50ms/step - loss: 0.0727 - val_loss: 0.0719\n",
      "Epoch 35/50\n",
      "235/235 [==============================] - 12s 50ms/step - loss: 0.0726 - val_loss: 0.0719\n",
      "Epoch 36/50\n",
      "235/235 [==============================] - 12s 50ms/step - loss: 0.0725 - val_loss: 0.0715\n",
      "Epoch 37/50\n",
      "235/235 [==============================] - 12s 50ms/step - loss: 0.0724 - val_loss: 0.0717\n",
      "Epoch 38/50\n",
      "235/235 [==============================] - 12s 50ms/step - loss: 0.0724 - val_loss: 0.0714\n",
      "Epoch 39/50\n",
      "235/235 [==============================] - 12s 50ms/step - loss: 0.0722 - val_loss: 0.0716\n",
      "Epoch 40/50\n",
      "235/235 [==============================] - 12s 50ms/step - loss: 0.0722 - val_loss: 0.0714\n",
      "Epoch 41/50\n",
      "235/235 [==============================] - 12s 50ms/step - loss: 0.0721 - val_loss: 0.0716\n",
      "Epoch 42/50\n",
      "235/235 [==============================] - 12s 50ms/step - loss: 0.0720 - val_loss: 0.0721\n",
      "Epoch 43/50\n",
      "235/235 [==============================] - 12s 50ms/step - loss: 0.0720 - val_loss: 0.0714\n",
      "Epoch 44/50\n",
      "235/235 [==============================] - 12s 50ms/step - loss: 0.0719 - val_loss: 0.0714\n",
      "Epoch 45/50\n",
      "235/235 [==============================] - 12s 50ms/step - loss: 0.0718 - val_loss: 0.0713\n",
      "Epoch 46/50\n",
      "235/235 [==============================] - 12s 49ms/step - loss: 0.0720 - val_loss: 0.0715\n",
      "Epoch 47/50\n",
      "235/235 [==============================] - 12s 50ms/step - loss: 0.0716 - val_loss: 0.0709\n",
      "Epoch 48/50\n",
      "235/235 [==============================] - 12s 50ms/step - loss: 0.0717 - val_loss: 0.0732\n",
      "Epoch 49/50\n",
      "235/235 [==============================] - 12s 50ms/step - loss: 0.0716 - val_loss: 0.0708\n",
      "Epoch 50/50\n",
      "235/235 [==============================] - 12s 50ms/step - loss: 0.0716 - val_loss: 0.0708\n"
     ]
    },
    {
     "data": {
      "text/plain": [
       "<keras.callbacks.History at 0x7f1381563b50>"
      ]
     },
     "execution_count": 8,
     "metadata": {},
     "output_type": "execute_result"
    }
   ],
   "source": [
    "c_autoencoder.fit(x_train, x_train,\n",
    "                epochs=50,\n",
    "                batch_size=256,\n",
    "                shuffle=True,\n",
    "                validation_data=(x_test, x_test))"
   ]
  },
  {
   "cell_type": "code",
   "execution_count": 9,
   "id": "4bbd744b",
   "metadata": {},
   "outputs": [],
   "source": [
    "def plot_digits(*args):\n",
    "    args = [x.squeeze() for x in args]\n",
    "    n = min([x.shape[0] for x in args])\n",
    "    \n",
    "    plt.figure(figsize=(2*n, 2*len(args)))\n",
    "    for j in range(n):\n",
    "        for i in range(len(args)):\n",
    "            ax = plt.subplot(len(args), n, i*n + j + 1)\n",
    "            plt.imshow(args[i][j])\n",
    "            plt.gray()\n",
    "            ax.get_xaxis().set_visible(False)\n",
    "            ax.get_yaxis().set_visible(False)\n",
    "\n",
    "    plt.show()"
   ]
  },
  {
   "cell_type": "code",
   "execution_count": 10,
   "id": "bb048019",
   "metadata": {},
   "outputs": [],
   "source": [
    "# Homotopy (linear or between codes)\n",
    "def plot_homotopy(frm, to, n=10, decoder=None):\n",
    "    z = np.zeros(([n] + list(frm.shape)))\n",
    "    for i, t in enumerate(np.linspace(0., 1., n)):\n",
    "        z[i] = frm * (1-t) + to * t\n",
    "    if decoder:\n",
    "        plot_digits(decoder.predict(z, batch_size=n))\n",
    "    else:\n",
    "        plot_digits(z)"
   ]
  },
  {
   "cell_type": "code",
   "execution_count": 11,
   "id": "699e5a8a",
   "metadata": {},
   "outputs": [
    {
     "data": {
      "image/png": "[encoded data removed]",
      "text/plain": [
       "<Figure size 2000x200 with 10 Axes>"
      ]
     },
     "metadata": {},
     "output_type": "display_data"
    }
   ],
   "source": [
    "# Linear homotopy between first two 8's\n",
    "frm, to = x_test[y_test == 8][1:3]\n",
    "plot_homotopy(frm, to)"
   ]
  },
  {
   "cell_type": "code",
   "execution_count": null,
   "id": "e8ae5a2b",
   "metadata": {},
   "outputs": [],
   "source": [
    "# Homotopy between codes of first two 8's\n",
    "codes = c_encoder.predict(x_test[y_test == 8][1:3])\n",
    "plot_homotopy(codes[0], codes[1], n=10, decoder=c_decoder)"
   ]
  },
  {
   "cell_type": "code",
   "execution_count": null,
   "id": "60be0a15",
   "metadata": {},
   "outputs": [],
   "source": [
    "def create_deep_sparse_ae(lambda_l1):\n",
    "    # Dimension of encoded representation\n",
    "    encoding_dim = 16\n",
    "\n",
    "    # Encoder\n",
    "    input_img = Input(shape=(28, 28, 1))\n",
    "    flat_img = Flatten()(input_img)\n",
    "    x = Dense(encoding_dim*4, activation='relu')(flat_img)\n",
    "    x = Dense(encoding_dim*3, activation='relu')(x)\n",
    "    x = Dense(encoding_dim*2, activation='relu')(x)\n",
    "    encoded = Dense(encoding_dim, activation='linear', activity_regularizer=L1L2(lambda_l1, 0))(x)\n",
    "    \n",
    "    # Decoder\n",
    "    input_encoded = Input(shape=(encoding_dim,))\n",
    "    x = Dense(encoding_dim*2, activation='relu')(input_encoded)\n",
    "    x = Dense(encoding_dim*3, activation='relu')(x)\n",
    "    x = Dense(encoding_dim*4, activation='relu')(x)\n",
    "    flat_decoded = Dense(28*28, activation='sigmoid')(x)\n",
    "    decoded = Reshape((28, 28, 1))(flat_decoded)\n",
    "    \n",
    "    # Models\n",
    "    encoder = Model(input_img, encoded, name=\"encoder\")\n",
    "    decoder = Model(input_encoded, decoded, name=\"decoder\")\n",
    "    autoencoder = Model(input_img, decoder(encoder(input_img)), name=\"autoencoder\")\n",
    "    return encoder, decoder, autoencoder\n",
    "\n",
    "encoder, decoder, autoencoder = create_deep_sparse_ae(0.)\n",
    "autoencoder.compile(optimizer=Adam(0.0003), loss='binary_crossentropy')"
   ]
  },
  {
   "cell_type": "code",
   "execution_count": null,
   "id": "9cccb321",
   "metadata": {},
   "outputs": [],
   "source": [
    "autoencoder.fit(x_train, x_train,\n",
    "                      epochs=100,\n",
    "                      batch_size=64,\n",
    "                      shuffle=True,\n",
    "                      validation_data=(x_test, x_test))"
   ]
  },
  {
   "cell_type": "markdown",
   "id": "d3fb437c",
   "metadata": {},
   "source": [
    "## Originals vs decoded"
   ]
  },
  {
   "cell_type": "code",
   "execution_count": null,
   "id": "055ced42",
   "metadata": {},
   "outputs": [],
   "source": [
    "n = 10\n",
    "imgs = x_test[:n]\n",
    "decoded_imgs = autoencoder.predict(imgs, batch_size=n)\n",
    "\n",
    "plot_digits(imgs, decoded_imgs)"
   ]
  },
  {
   "cell_type": "markdown",
   "id": "a9fc4ba6",
   "metadata": {},
   "source": [
    "$P(Z_1, Z_3)$"
   ]
  },
  {
   "cell_type": "code",
   "execution_count": null,
   "id": "ed6dc247",
   "metadata": {},
   "outputs": [],
   "source": [
    "codes = encoder.predict(x_test)\n",
    "sns.jointplot(codes[:,1], codes[:,3])"
   ]
  },
  {
   "cell_type": "code",
   "execution_count": null,
   "id": "39e725f7",
   "metadata": {},
   "outputs": [],
   "source": [
    "s_encoder, s_decoder, s_autoencoder = create_deep_sparse_ae(0.00001)\n",
    "s_autoencoder.compile(optimizer=Adam(0.0003), loss='binary_crossentropy')"
   ]
  },
  {
   "cell_type": "code",
   "execution_count": null,
   "id": "c9783f4f",
   "metadata": {},
   "outputs": [],
   "source": [
    "s_autoencoder.fit(x_train, x_train, epochs=200, batch_size=256, shuffle=True, \n",
    "                          validation_data=(x_test, x_test))"
   ]
  },
  {
   "cell_type": "code",
   "execution_count": null,
   "id": "9088e41a",
   "metadata": {},
   "outputs": [],
   "source": [
    "imgs = x_test[:n]\n",
    "decoded_imgs = s_autoencoder.predict(imgs, batch_size=n)\n",
    "plot_digits(imgs, decoded_imgs)"
   ]
  },
  {
   "cell_type": "code",
   "execution_count": null,
   "id": "7044b2e9",
   "metadata": {},
   "outputs": [],
   "source": [
    "codes = s_encoder.predict(x_test)\n",
    "snt.jointplot(codes[:,1], codes[:,3])"
   ]
  }
 ],
 "metadata": {
  "kernelspec": {
   "display_name": "Python 3 (ipykernel)",
   "language": "python",
   "name": "python3"
  },
  "language_info": {
   "codemirror_mode": {
    "name": "ipython",
    "version": 3
   },
   "file_extension": ".py",
   "mimetype": "text/x-python",
   "name": "python",
   "nbconvert_exporter": "python",
   "pygments_lexer": "ipython3",
   "version": "3.10.4"
  }
 },
 "nbformat": 4,
 "nbformat_minor": 5
}
