{
 "cells": [
  {
   "cell_type": "markdown",
   "id": "38e34fcb",
   "metadata": {},
   "source": [
    "# Autoencoders"
   ]
  },
  {
   "cell_type": "code",
   "execution_count": 26,
   "id": "302f959e",
   "metadata": {},
   "outputs": [],
   "source": [
    "import warnings\n",
    "import numpy as np\n",
    "%matplotlib inline\n",
    "import seaborn as sns\n",
    "import matplotlib.pyplot as plt\n",
    "import keras.backend as K\n",
    "from keras.layers import Input, Dense, Flatten, Reshape, Conv2D, MaxPooling2D, UpSampling2D, Lambda\n",
    "from keras.models import Model\n",
    "from keras.datasets import mnist"
   ]
  },
  {
   "cell_type": "code",
   "execution_count": 14,
   "id": "66c9384c",
   "metadata": {},
   "outputs": [],
   "source": [
    "(x_train, y_train), (x_test, y_test) = mnist.load_data()\n",
    "\n",
    "x_train = x_train.astype('float32') / 255.\n",
    "x_test  = x_test .astype('float32') / 255.\n",
    "x_train = np.reshape(x_train, (len(x_train), 28, 28, 1))\n",
    "x_test  = np.reshape(x_test,  (len(x_test),  28, 28, 1))"
   ]
  },
  {
   "cell_type": "markdown",
   "id": "d76b268b",
   "metadata": {},
   "source": [
    "## Simple autoencoder"
   ]
  },
  {
   "cell_type": "code",
   "execution_count": 15,
   "id": "17d1f102",
   "metadata": {},
   "outputs": [
    {
     "name": "stdout",
     "output_type": "stream",
     "text": [
      "Model: \"autoencoder\"\n",
      "_________________________________________________________________\n",
      " Layer (type)                Output Shape              Param #   \n",
      "=================================================================\n",
      " input_7 (InputLayer)        [(None, 28, 28, 1)]       0         \n",
      "                                                                 \n",
      " encoder (Functional)        (None, 49)                38465     \n",
      "                                                                 \n",
      " decoder (Functional)        (None, 28, 28, 1)         39200     \n",
      "                                                                 \n",
      "=================================================================\n",
      "Total params: 77,665\n",
      "Trainable params: 77,665\n",
      "Non-trainable params: 0\n",
      "_________________________________________________________________\n"
     ]
    }
   ],
   "source": [
    "def create_dense_ae():\n",
    "    # Encoded representation dimesion\n",
    "    encoding_dim = 49\n",
    "\n",
    "    # Encoder\n",
    "    # Input placeholder\n",
    "    input_img = Input(shape=(28, 28, 1)) # 28, 28, 1 - sizes of rows, cols, filters of 1 image\n",
    "    # Utility reshape layer\n",
    "    flat_img = Flatten()(input_img)\n",
    "    # Encode with dense layer -> representation\n",
    "    encoded = Dense(encoding_dim, activation=\"relu\")(flat_img)\n",
    "    \n",
    "    # Decoder\n",
    "    # Decode with dense layer -> image\n",
    "    input_encoded = Input(shape=(encoding_dim,))\n",
    "    flat_decoded = Dense(28*28, activation=\"sigmoid\")(input_encoded)\n",
    "    decoded = Reshape((28, 28, 1))(flat_decoded)\n",
    "\n",
    "    #                 input     other\n",
    "    encoder = Model(input_img, encoded, name=\"encoder\")\n",
    "    decoder = Model(input_encoded, decoded, name=\"decoder\")\n",
    "    autoencoder = Model(input_img, decoder(encoder(input_img)), name=\"autoencoder\")\n",
    "    return encoder, decoder, autoencoder\n",
    "\n",
    "encoder, decoder, autoencoder = create_dense_ae()\n",
    "autoencoder.compile(optimizer=\"adam\", loss=\"binary_crossentropy\")\n",
    "\n",
    "autoencoder.summary()"
   ]
  },
  {
   "cell_type": "code",
   "execution_count": 16,
   "id": "16cf2de3",
   "metadata": {},
   "outputs": [
    {
     "name": "stdout",
     "output_type": "stream",
     "text": [
      "Epoch 1/50\n"
     ]
    },
    {
     "name": "stderr",
     "output_type": "stream",
     "text": [
      "2022-09-18 22:43:18.894009: W tensorflow/core/framework/cpu_allocator_impl.cc:82] Allocation of 188160000 exceeds 10% of free system memory.\n",
      "2022-09-18 22:43:18.970971: W tensorflow/core/framework/cpu_allocator_impl.cc:82] Allocation of 188160000 exceeds 10% of free system memory.\n"
     ]
    },
    {
     "name": "stdout",
     "output_type": "stream",
     "text": [
      "235/235 [==============================] - 2s 7ms/step - loss: 0.2583 - val_loss: 0.1733\n",
      "Epoch 2/50\n",
      "235/235 [==============================] - 2s 7ms/step - loss: 0.1555 - val_loss: 0.1378\n",
      "Epoch 3/50\n",
      "235/235 [==============================] - 2s 7ms/step - loss: 0.1281 - val_loss: 0.1175\n",
      "Epoch 4/50\n",
      "235/235 [==============================] - 2s 7ms/step - loss: 0.1124 - val_loss: 0.1053\n",
      "Epoch 5/50\n",
      "235/235 [==============================] - 2s 7ms/step - loss: 0.1026 - val_loss: 0.0977\n",
      "Epoch 6/50\n",
      "235/235 [==============================] - 2s 7ms/step - loss: 0.0958 - val_loss: 0.0919\n",
      "Epoch 7/50\n",
      "235/235 [==============================] - 2s 7ms/step - loss: 0.0908 - val_loss: 0.0877\n",
      "Epoch 8/50\n",
      "235/235 [==============================] - 2s 7ms/step - loss: 0.0871 - val_loss: 0.0847\n",
      "Epoch 9/50\n",
      "235/235 [==============================] - 2s 7ms/step - loss: 0.0846 - val_loss: 0.0828\n",
      "Epoch 10/50\n",
      "235/235 [==============================] - 2s 7ms/step - loss: 0.0830 - val_loss: 0.0816\n",
      "Epoch 11/50\n",
      "235/235 [==============================] - 2s 7ms/step - loss: 0.0819 - val_loss: 0.0806\n",
      "Epoch 12/50\n",
      "235/235 [==============================] - 2s 7ms/step - loss: 0.0812 - val_loss: 0.0800\n",
      "Epoch 13/50\n",
      "235/235 [==============================] - 2s 7ms/step - loss: 0.0808 - val_loss: 0.0797\n",
      "Epoch 14/50\n",
      "235/235 [==============================] - 2s 7ms/step - loss: 0.0804 - val_loss: 0.0794\n",
      "Epoch 15/50\n",
      "235/235 [==============================] - 2s 7ms/step - loss: 0.0801 - val_loss: 0.0792\n",
      "Epoch 16/50\n",
      "235/235 [==============================] - 2s 7ms/step - loss: 0.0799 - val_loss: 0.0789\n",
      "Epoch 17/50\n",
      "235/235 [==============================] - 2s 7ms/step - loss: 0.0797 - val_loss: 0.0788\n",
      "Epoch 18/50\n",
      "235/235 [==============================] - 2s 7ms/step - loss: 0.0796 - val_loss: 0.0787\n",
      "Epoch 19/50\n",
      "235/235 [==============================] - 2s 7ms/step - loss: 0.0795 - val_loss: 0.0786\n",
      "Epoch 20/50\n",
      "235/235 [==============================] - 2s 7ms/step - loss: 0.0794 - val_loss: 0.0786\n",
      "Epoch 21/50\n",
      "235/235 [==============================] - 2s 7ms/step - loss: 0.0793 - val_loss: 0.0784\n",
      "Epoch 22/50\n",
      "235/235 [==============================] - 2s 7ms/step - loss: 0.0792 - val_loss: 0.0784\n",
      "Epoch 23/50\n",
      "235/235 [==============================] - 2s 7ms/step - loss: 0.0791 - val_loss: 0.0783\n",
      "Epoch 24/50\n",
      "235/235 [==============================] - 2s 7ms/step - loss: 0.0791 - val_loss: 0.0783\n",
      "Epoch 25/50\n",
      "235/235 [==============================] - 2s 7ms/step - loss: 0.0790 - val_loss: 0.0782\n",
      "Epoch 26/50\n",
      "235/235 [==============================] - 2s 7ms/step - loss: 0.0790 - val_loss: 0.0781\n",
      "Epoch 27/50\n",
      "235/235 [==============================] - 2s 7ms/step - loss: 0.0789 - val_loss: 0.0782\n",
      "Epoch 28/50\n",
      "235/235 [==============================] - 2s 7ms/step - loss: 0.0789 - val_loss: 0.0781\n",
      "Epoch 29/50\n",
      "235/235 [==============================] - 2s 7ms/step - loss: 0.0788 - val_loss: 0.0782\n",
      "Epoch 30/50\n",
      "235/235 [==============================] - 2s 7ms/step - loss: 0.0788 - val_loss: 0.0780\n",
      "Epoch 31/50\n",
      "235/235 [==============================] - 2s 7ms/step - loss: 0.0788 - val_loss: 0.0780\n",
      "Epoch 32/50\n",
      "235/235 [==============================] - 2s 7ms/step - loss: 0.0787 - val_loss: 0.0780\n",
      "Epoch 33/50\n",
      "235/235 [==============================] - 2s 8ms/step - loss: 0.0787 - val_loss: 0.0780\n",
      "Epoch 34/50\n",
      "235/235 [==============================] - 2s 7ms/step - loss: 0.0787 - val_loss: 0.0780\n",
      "Epoch 35/50\n",
      "235/235 [==============================] - 2s 7ms/step - loss: 0.0787 - val_loss: 0.0780\n",
      "Epoch 36/50\n",
      "235/235 [==============================] - 2s 7ms/step - loss: 0.0786 - val_loss: 0.0779\n",
      "Epoch 37/50\n",
      "235/235 [==============================] - 2s 7ms/step - loss: 0.0786 - val_loss: 0.0779\n",
      "Epoch 38/50\n",
      "235/235 [==============================] - 2s 7ms/step - loss: 0.0786 - val_loss: 0.0779\n",
      "Epoch 39/50\n",
      "235/235 [==============================] - 2s 7ms/step - loss: 0.0786 - val_loss: 0.0779\n",
      "Epoch 40/50\n",
      "235/235 [==============================] - 2s 7ms/step - loss: 0.0786 - val_loss: 0.0778\n",
      "Epoch 41/50\n",
      "235/235 [==============================] - 2s 7ms/step - loss: 0.0786 - val_loss: 0.0778\n",
      "Epoch 42/50\n",
      "235/235 [==============================] - 2s 6ms/step - loss: 0.0786 - val_loss: 0.0779\n",
      "Epoch 43/50\n",
      "235/235 [==============================] - 2s 6ms/step - loss: 0.0785 - val_loss: 0.0778\n",
      "Epoch 44/50\n",
      "235/235 [==============================] - 2s 7ms/step - loss: 0.0785 - val_loss: 0.0779\n",
      "Epoch 45/50\n",
      "235/235 [==============================] - 2s 7ms/step - loss: 0.0785 - val_loss: 0.0778\n",
      "Epoch 46/50\n",
      "235/235 [==============================] - 2s 7ms/step - loss: 0.0785 - val_loss: 0.0778\n",
      "Epoch 47/50\n",
      "235/235 [==============================] - 2s 6ms/step - loss: 0.0785 - val_loss: 0.0778\n",
      "Epoch 48/50\n",
      "235/235 [==============================] - 2s 7ms/step - loss: 0.0785 - val_loss: 0.0778\n",
      "Epoch 49/50\n",
      "235/235 [==============================] - 2s 7ms/step - loss: 0.0785 - val_loss: 0.0778\n",
      "Epoch 50/50\n",
      "235/235 [==============================] - 2s 6ms/step - loss: 0.0785 - val_loss: 0.0778\n"
     ]
    },
    {
     "data": {
      "text/plain": [
       "<keras.callbacks.History at 0x7f4ff91d6950>"
      ]
     },
     "execution_count": 16,
     "metadata": {},
     "output_type": "execute_result"
    }
   ],
   "source": [
    "autoencoder.fit(x_train, x_train,\n",
    "                epochs=50,\n",
    "                batch_size=256,\n",
    "                shuffle=True,\n",
    "                validation_data=(x_test, x_test))"
   ]
  },
  {
   "cell_type": "markdown",
   "id": "8c483260",
   "metadata": {},
   "source": [
    "### Plotter function"
   ]
  },
  {
   "cell_type": "code",
   "execution_count": 17,
   "id": "04294e1b",
   "metadata": {},
   "outputs": [],
   "source": [
    "def plot_digits(*args):\n",
    "    args = [x.squeeze() for x in args]\n",
    "    n = min([x.shape[0] for x in args])\n",
    "    \n",
    "    plt.figure(figsize=(2*n, 2*len(args)))\n",
    "    for j in range(n):\n",
    "        for i in range(len(args)):\n",
    "            ax = plt.subplot(len(args), n, i*n + j + 1)\n",
    "            plt.imshow(args[i][j])\n",
    "            plt.gray()\n",
    "            ax.get_xaxis().set_visible(False)\n",
    "            ax.get_yaxis().set_visible(False)\n",
    "\n",
    "    plt.show()"
   ]
  },
  {
   "cell_type": "code",
   "execution_count": 18,
   "id": "cefd8c59",
   "metadata": {},
   "outputs": [
    {
     "name": "stdout",
     "output_type": "stream",
     "text": [
      "1/1 [==============================] - 0s 54ms/step\n",
      "1/1 [==============================] - 0s 41ms/step\n"
     ]
    },
    {
     "data": {
      "image/png": "[encoded data removed]",
      "text/plain": [
       "<Figure size 1440x288 with 20 Axes>"
      ]
     },
     "metadata": {
      "needs_background": "light"
     },
     "output_type": "display_data"
    }
   ],
   "source": [
    "n = 10\n",
    "\n",
    "imgs = x_test[:n]\n",
    "encoded_imgs = encoder.predict(imgs, batch_size=n)\n",
    "\n",
    "decoded_imgs = decoder.predict(encoded_imgs, batch_size=n)\n",
    "\n",
    "plot_digits(imgs, decoded_imgs)"
   ]
  },
  {
   "cell_type": "markdown",
   "id": "c684b836",
   "metadata": {},
   "source": [
    "## Deep AE"
   ]
  },
  {
   "cell_type": "code",
   "execution_count": 20,
   "id": "ef70ea7f",
   "metadata": {},
   "outputs": [
    {
     "name": "stdout",
     "output_type": "stream",
     "text": [
      "Model: \"autoencoder\"\n",
      "_________________________________________________________________\n",
      " Layer (type)                Output Shape              Param #   \n",
      "=================================================================\n",
      " input_11 (InputLayer)       [(None, 28, 28, 1)]       0         \n",
      "                                                                 \n",
      " encoder (Functional)        (None, 49)                134750    \n",
      "                                                                 \n",
      " decoder (Functional)        (None, 28, 28, 1)         135485    \n",
      "                                                                 \n",
      "=================================================================\n",
      "Total params: 270,235\n",
      "Trainable params: 270,235\n",
      "Non-trainable params: 0\n",
      "_________________________________________________________________\n"
     ]
    }
   ],
   "source": [
    "def create_deep_dense_ae():\n",
    "    # Encoded representation dimension\n",
    "    encoding_dim = 49\n",
    "\n",
    "    # Encoder\n",
    "    input_img = Input(shape=(28, 28, 1))\n",
    "    flat_img = Flatten()(input_img)\n",
    "    x = Dense(encoding_dim*3, activation=\"relu\")(flat_img)\n",
    "    x = Dense(encoding_dim*2, activation=\"relu\")(x)\n",
    "    encoded = Dense(encoding_dim, activation='linear')(x)\n",
    "    \n",
    "    # Decoder\n",
    "    input_encoded = Input(shape=(encoding_dim,))\n",
    "    x = Dense(encoding_dim*2, activation=\"relu\")(input_encoded)\n",
    "    x = Dense(encoding_dim*3, activation=\"relu\")(x)\n",
    "    flat_decoded = Dense(28*28, activation=\"sigmoid\")(x)\n",
    "    decoded = Reshape((28, 28, 1))(flat_decoded)\n",
    "    \n",
    "    # Models\n",
    "    encoder = Model(input_img, encoded, name=\"encoder\")\n",
    "    decoder = Model(input_encoded, decoded, name=\"decoder\")\n",
    "    autoencoder = Model(input_img, decoder(encoder(input_img)), name=\"autoencoder\")\n",
    "    return encoder, decoder, autoencoder\n",
    "\n",
    "d_encoder, d_decoder, d_autoencoder = create_deep_dense_ae()\n",
    "d_autoencoder.compile(optimizer=\"adam\", loss=\"binary_crossentropy\")\n",
    "\n",
    "d_autoencoder.summary()"
   ]
  },
  {
   "cell_type": "code",
   "execution_count": 21,
   "id": "2d5008c4",
   "metadata": {},
   "outputs": [
    {
     "name": "stdout",
     "output_type": "stream",
     "text": [
      "Epoch 1/100\n"
     ]
    },
    {
     "name": "stderr",
     "output_type": "stream",
     "text": [
      "2022-09-18 22:51:24.176011: W tensorflow/core/framework/cpu_allocator_impl.cc:82] Allocation of 188160000 exceeds 10% of free system memory.\n"
     ]
    },
    {
     "name": "stdout",
     "output_type": "stream",
     "text": [
      "235/235 [==============================] - 3s 10ms/step - loss: 0.2226 - val_loss: 0.1473\n",
      "Epoch 2/100\n",
      "235/235 [==============================] - 2s 9ms/step - loss: 0.1342 - val_loss: 0.1231\n",
      "Epoch 3/100\n",
      "235/235 [==============================] - 2s 9ms/step - loss: 0.1178 - val_loss: 0.1106\n",
      "Epoch 4/100\n",
      "235/235 [==============================] - 2s 9ms/step - loss: 0.1084 - val_loss: 0.1033\n",
      "Epoch 5/100\n",
      "235/235 [==============================] - 2s 9ms/step - loss: 0.1025 - val_loss: 0.0991\n",
      "Epoch 6/100\n",
      "235/235 [==============================] - 2s 9ms/step - loss: 0.0987 - val_loss: 0.0960\n",
      "Epoch 7/100\n",
      "235/235 [==============================] - 2s 9ms/step - loss: 0.0960 - val_loss: 0.0939\n",
      "Epoch 8/100\n",
      "235/235 [==============================] - 2s 9ms/step - loss: 0.0937 - val_loss: 0.0914\n",
      "Epoch 9/100\n",
      "235/235 [==============================] - 2s 9ms/step - loss: 0.0918 - val_loss: 0.0901\n",
      "Epoch 10/100\n",
      "235/235 [==============================] - 2s 9ms/step - loss: 0.0903 - val_loss: 0.0888\n",
      "Epoch 11/100\n",
      "235/235 [==============================] - 2s 9ms/step - loss: 0.0892 - val_loss: 0.0879\n",
      "Epoch 12/100\n",
      "235/235 [==============================] - 2s 9ms/step - loss: 0.0881 - val_loss: 0.0873\n",
      "Epoch 13/100\n",
      "235/235 [==============================] - 2s 9ms/step - loss: 0.0871 - val_loss: 0.0861\n",
      "Epoch 14/100\n",
      "235/235 [==============================] - 2s 8ms/step - loss: 0.0863 - val_loss: 0.0856\n",
      "Epoch 15/100\n",
      "235/235 [==============================] - 2s 8ms/step - loss: 0.0855 - val_loss: 0.0842\n",
      "Epoch 16/100\n",
      "235/235 [==============================] - 2s 9ms/step - loss: 0.0848 - val_loss: 0.0836\n",
      "Epoch 17/100\n",
      "235/235 [==============================] - 2s 9ms/step - loss: 0.0841 - val_loss: 0.0832\n",
      "Epoch 18/100\n",
      "235/235 [==============================] - 2s 9ms/step - loss: 0.0835 - val_loss: 0.0833\n",
      "Epoch 19/100\n",
      "235/235 [==============================] - 2s 10ms/step - loss: 0.0830 - val_loss: 0.0822\n",
      "Epoch 20/100\n",
      "235/235 [==============================] - 2s 10ms/step - loss: 0.0825 - val_loss: 0.0816\n",
      "Epoch 21/100\n",
      "235/235 [==============================] - 2s 9ms/step - loss: 0.0820 - val_loss: 0.0813\n",
      "Epoch 22/100\n",
      "235/235 [==============================] - 2s 9ms/step - loss: 0.0816 - val_loss: 0.0807\n",
      "Epoch 23/100\n",
      "235/235 [==============================] - 2s 9ms/step - loss: 0.0811 - val_loss: 0.0810\n",
      "Epoch 24/100\n",
      "235/235 [==============================] - 2s 10ms/step - loss: 0.0808 - val_loss: 0.0801\n",
      "Epoch 25/100\n",
      "235/235 [==============================] - 2s 10ms/step - loss: 0.0804 - val_loss: 0.0798\n",
      "Epoch 26/100\n",
      "235/235 [==============================] - 2s 10ms/step - loss: 0.0801 - val_loss: 0.0793\n",
      "Epoch 27/100\n",
      "235/235 [==============================] - 2s 10ms/step - loss: 0.0798 - val_loss: 0.0796\n",
      "Epoch 28/100\n",
      "235/235 [==============================] - 2s 10ms/step - loss: 0.0796 - val_loss: 0.0793\n",
      "Epoch 29/100\n",
      "235/235 [==============================] - 2s 10ms/step - loss: 0.0793 - val_loss: 0.0793\n",
      "Epoch 30/100\n",
      "235/235 [==============================] - 2s 10ms/step - loss: 0.0791 - val_loss: 0.0785\n",
      "Epoch 31/100\n",
      "235/235 [==============================] - 2s 10ms/step - loss: 0.0789 - val_loss: 0.0785\n",
      "Epoch 32/100\n",
      "235/235 [==============================] - 2s 10ms/step - loss: 0.0786 - val_loss: 0.0783\n",
      "Epoch 33/100\n",
      "235/235 [==============================] - 2s 10ms/step - loss: 0.0784 - val_loss: 0.0781\n",
      "Epoch 34/100\n",
      "235/235 [==============================] - 2s 10ms/step - loss: 0.0782 - val_loss: 0.0779\n",
      "Epoch 35/100\n",
      "235/235 [==============================] - 2s 10ms/step - loss: 0.0780 - val_loss: 0.0777\n",
      "Epoch 36/100\n",
      "235/235 [==============================] - 2s 10ms/step - loss: 0.0778 - val_loss: 0.0774\n",
      "Epoch 37/100\n",
      "235/235 [==============================] - 2s 9ms/step - loss: 0.0777 - val_loss: 0.0774\n",
      "Epoch 38/100\n",
      "235/235 [==============================] - 2s 9ms/step - loss: 0.0775 - val_loss: 0.0771\n",
      "Epoch 39/100\n",
      "235/235 [==============================] - 2s 9ms/step - loss: 0.0774 - val_loss: 0.0768\n",
      "Epoch 40/100\n",
      "235/235 [==============================] - 2s 10ms/step - loss: 0.0771 - val_loss: 0.0768\n",
      "Epoch 41/100\n",
      "235/235 [==============================] - 2s 10ms/step - loss: 0.0770 - val_loss: 0.0769\n",
      "Epoch 42/100\n",
      "235/235 [==============================] - 2s 10ms/step - loss: 0.0768 - val_loss: 0.0762\n",
      "Epoch 43/100\n",
      "235/235 [==============================] - 2s 10ms/step - loss: 0.0767 - val_loss: 0.0764\n",
      "Epoch 44/100\n",
      "235/235 [==============================] - 2s 10ms/step - loss: 0.0766 - val_loss: 0.0765\n",
      "Epoch 45/100\n",
      "235/235 [==============================] - 2s 10ms/step - loss: 0.0764 - val_loss: 0.0762\n",
      "Epoch 46/100\n",
      "235/235 [==============================] - 2s 10ms/step - loss: 0.0763 - val_loss: 0.0760\n",
      "Epoch 47/100\n",
      "235/235 [==============================] - 2s 10ms/step - loss: 0.0762 - val_loss: 0.0758\n",
      "Epoch 48/100\n",
      "235/235 [==============================] - 2s 10ms/step - loss: 0.0760 - val_loss: 0.0760\n",
      "Epoch 49/100\n",
      "235/235 [==============================] - 2s 10ms/step - loss: 0.0759 - val_loss: 0.0758\n",
      "Epoch 50/100\n",
      "235/235 [==============================] - 2s 10ms/step - loss: 0.0757 - val_loss: 0.0755\n",
      "Epoch 51/100\n",
      "235/235 [==============================] - 2s 10ms/step - loss: 0.0757 - val_loss: 0.0752\n",
      "Epoch 52/100\n",
      "235/235 [==============================] - 2s 10ms/step - loss: 0.0756 - val_loss: 0.0752\n",
      "Epoch 53/100\n",
      "235/235 [==============================] - 2s 10ms/step - loss: 0.0754 - val_loss: 0.0753\n",
      "Epoch 54/100\n",
      "235/235 [==============================] - 2s 9ms/step - loss: 0.0754 - val_loss: 0.0751\n",
      "Epoch 55/100\n",
      "235/235 [==============================] - 2s 9ms/step - loss: 0.0753 - val_loss: 0.0749\n",
      "Epoch 56/100\n",
      "235/235 [==============================] - 2s 9ms/step - loss: 0.0752 - val_loss: 0.0750\n",
      "Epoch 57/100\n",
      "235/235 [==============================] - 2s 10ms/step - loss: 0.0751 - val_loss: 0.0748\n",
      "Epoch 58/100\n",
      "235/235 [==============================] - 2s 10ms/step - loss: 0.0750 - val_loss: 0.0747\n",
      "Epoch 59/100\n",
      "235/235 [==============================] - 2s 10ms/step - loss: 0.0749 - val_loss: 0.0747\n",
      "Epoch 60/100\n",
      "235/235 [==============================] - 2s 10ms/step - loss: 0.0749 - val_loss: 0.0747\n",
      "Epoch 61/100\n",
      "235/235 [==============================] - 2s 9ms/step - loss: 0.0747 - val_loss: 0.0746\n",
      "Epoch 62/100\n",
      "235/235 [==============================] - 2s 9ms/step - loss: 0.0747 - val_loss: 0.0747\n",
      "Epoch 63/100\n",
      "235/235 [==============================] - 2s 9ms/step - loss: 0.0746 - val_loss: 0.0744\n",
      "Epoch 64/100\n",
      "235/235 [==============================] - 2s 10ms/step - loss: 0.0745 - val_loss: 0.0743\n",
      "Epoch 65/100\n",
      "235/235 [==============================] - 2s 10ms/step - loss: 0.0744 - val_loss: 0.0745\n",
      "Epoch 66/100\n",
      "235/235 [==============================] - 2s 10ms/step - loss: 0.0744 - val_loss: 0.0743\n",
      "Epoch 67/100\n",
      "235/235 [==============================] - 2s 10ms/step - loss: 0.0743 - val_loss: 0.0741\n",
      "Epoch 68/100\n",
      "235/235 [==============================] - 3s 11ms/step - loss: 0.0742 - val_loss: 0.0742\n",
      "Epoch 69/100\n",
      "235/235 [==============================] - 2s 10ms/step - loss: 0.0742 - val_loss: 0.0740\n",
      "Epoch 70/100\n",
      "235/235 [==============================] - 2s 10ms/step - loss: 0.0741 - val_loss: 0.0738\n",
      "Epoch 71/100\n",
      "235/235 [==============================] - 2s 10ms/step - loss: 0.0740 - val_loss: 0.0739\n",
      "Epoch 72/100\n",
      "235/235 [==============================] - 2s 10ms/step - loss: 0.0740 - val_loss: 0.0737\n",
      "Epoch 73/100\n",
      "235/235 [==============================] - 3s 12ms/step - loss: 0.0739 - val_loss: 0.0738\n",
      "Epoch 74/100\n",
      "235/235 [==============================] - 3s 12ms/step - loss: 0.0739 - val_loss: 0.0740\n",
      "Epoch 75/100\n",
      "235/235 [==============================] - 2s 10ms/step - loss: 0.0738 - val_loss: 0.0737\n",
      "Epoch 76/100\n",
      "235/235 [==============================] - 2s 10ms/step - loss: 0.0737 - val_loss: 0.0737\n",
      "Epoch 77/100\n",
      "235/235 [==============================] - 2s 10ms/step - loss: 0.0737 - val_loss: 0.0734\n",
      "Epoch 78/100\n",
      "235/235 [==============================] - 2s 10ms/step - loss: 0.0736 - val_loss: 0.0737\n",
      "Epoch 79/100\n",
      "235/235 [==============================] - 2s 9ms/step - loss: 0.0735 - val_loss: 0.0733\n",
      "Epoch 80/100\n",
      "235/235 [==============================] - 2s 9ms/step - loss: 0.0735 - val_loss: 0.0735\n",
      "Epoch 81/100\n"
     ]
    },
    {
     "name": "stdout",
     "output_type": "stream",
     "text": [
      "235/235 [==============================] - 2s 10ms/step - loss: 0.0735 - val_loss: 0.0736\n",
      "Epoch 82/100\n",
      "235/235 [==============================] - 2s 9ms/step - loss: 0.0734 - val_loss: 0.0733\n",
      "Epoch 83/100\n",
      "235/235 [==============================] - 2s 9ms/step - loss: 0.0733 - val_loss: 0.0731\n",
      "Epoch 84/100\n",
      "235/235 [==============================] - 2s 9ms/step - loss: 0.0733 - val_loss: 0.0733\n",
      "Epoch 85/100\n",
      "235/235 [==============================] - 2s 9ms/step - loss: 0.0732 - val_loss: 0.0731\n",
      "Epoch 86/100\n",
      "235/235 [==============================] - 2s 9ms/step - loss: 0.0732 - val_loss: 0.0730\n",
      "Epoch 87/100\n",
      "235/235 [==============================] - 2s 9ms/step - loss: 0.0731 - val_loss: 0.0730\n",
      "Epoch 88/100\n",
      "235/235 [==============================] - 2s 9ms/step - loss: 0.0731 - val_loss: 0.0731\n",
      "Epoch 89/100\n",
      "235/235 [==============================] - 2s 9ms/step - loss: 0.0730 - val_loss: 0.0729\n",
      "Epoch 90/100\n",
      "235/235 [==============================] - 2s 10ms/step - loss: 0.0729 - val_loss: 0.0730\n",
      "Epoch 91/100\n",
      "235/235 [==============================] - 2s 9ms/step - loss: 0.0730 - val_loss: 0.0729\n",
      "Epoch 92/100\n",
      "235/235 [==============================] - 2s 9ms/step - loss: 0.0729 - val_loss: 0.0729\n",
      "Epoch 93/100\n",
      "235/235 [==============================] - 2s 9ms/step - loss: 0.0729 - val_loss: 0.0730\n",
      "Epoch 94/100\n",
      "235/235 [==============================] - 2s 9ms/step - loss: 0.0728 - val_loss: 0.0727\n",
      "Epoch 95/100\n",
      "235/235 [==============================] - 2s 9ms/step - loss: 0.0728 - val_loss: 0.0726\n",
      "Epoch 96/100\n",
      "235/235 [==============================] - 2s 9ms/step - loss: 0.0727 - val_loss: 0.0727\n",
      "Epoch 97/100\n",
      "235/235 [==============================] - 2s 9ms/step - loss: 0.0727 - val_loss: 0.0726\n",
      "Epoch 98/100\n",
      "235/235 [==============================] - 2s 9ms/step - loss: 0.0727 - val_loss: 0.0726\n",
      "Epoch 99/100\n",
      "235/235 [==============================] - 2s 9ms/step - loss: 0.0726 - val_loss: 0.0726\n",
      "Epoch 100/100\n",
      "235/235 [==============================] - 2s 9ms/step - loss: 0.0726 - val_loss: 0.0725\n"
     ]
    },
    {
     "data": {
      "text/plain": [
       "<keras.callbacks.History at 0x7f4f819a9510>"
      ]
     },
     "execution_count": 21,
     "metadata": {},
     "output_type": "execute_result"
    }
   ],
   "source": [
    "d_autoencoder.fit(x_train, x_train,\n",
    "                  epochs=100,\n",
    "                  batch_size=256,\n",
    "                  shuffle=True,\n",
    "                  validation_data=(x_test, x_test))"
   ]
  },
  {
   "cell_type": "code",
   "execution_count": 22,
   "id": "16fed57a",
   "metadata": {},
   "outputs": [
    {
     "name": "stdout",
     "output_type": "stream",
     "text": [
      "1/1 [==============================] - 0s 49ms/step\n",
      "1/1 [==============================] - 0s 48ms/step\n"
     ]
    },
    {
     "data": {
      "image/png": "[encoded data removed]",
      "text/plain": [
       "<Figure size 1440x288 with 20 Axes>"
      ]
     },
     "metadata": {
      "needs_background": "light"
     },
     "output_type": "display_data"
    }
   ],
   "source": [
    "n = 10\n",
    "\n",
    "imgs = x_test[:n]\n",
    "encoded_imgs = d_encoder.predict(imgs, batch_size=n)\n",
    "\n",
    "decoded_imgs = d_decoder.predict(encoded_imgs, batch_size=n)\n",
    "\n",
    "plot_digits(imgs, decoded_imgs)\n"
   ]
  },
  {
   "cell_type": "markdown",
   "id": "a208624e",
   "metadata": {},
   "source": [
    "## Deep convolutional AE"
   ]
  },
  {
   "cell_type": "code",
   "execution_count": 24,
   "id": "78bcdd0d",
   "metadata": {},
   "outputs": [
    {
     "name": "stdout",
     "output_type": "stream",
     "text": [
      "Model: \"autoencoder\"\n",
      "_________________________________________________________________\n",
      " Layer (type)                Output Shape              Param #   \n",
      "=================================================================\n",
      " input_13 (InputLayer)       [(None, 28, 28, 1)]       0         \n",
      "                                                                 \n",
      " encoder (Functional)        (None, 7, 7, 1)           24385     \n",
      "                                                                 \n",
      " decoder (Functional)        (None, 28, 28, 1)         24385     \n",
      "                                                                 \n",
      "=================================================================\n",
      "Total params: 48,770\n",
      "Trainable params: 48,770\n",
      "Non-trainable params: 0\n",
      "_________________________________________________________________\n"
     ]
    }
   ],
   "source": [
    "def create_deep_conv_ae():\n",
    "    input_img = Input(shape=(28, 28, 1))\n",
    "\n",
    "    x = Conv2D(128, (7, 7), activation=\"relu\", padding=\"same\")(input_img)\n",
    "    x = MaxPooling2D((2, 2), padding=\"same\")(x)\n",
    "    x = Conv2D(32, (2, 2), activation=\"relu\", padding=\"same\")(x)\n",
    "    x = MaxPooling2D((2, 2), padding=\"same\")(x)\n",
    "    encoded = Conv2D(1, (7, 7), activation=\"relu\", padding=\"same\")(x)\n",
    "\n",
    "    # Here the representation is (7, 7, 1), dim=49\n",
    "\n",
    "    input_encoded = Input(shape=(7, 7, 1))\n",
    "    x = Conv2D(32, (7, 7), activation=\"relu\", padding=\"same\")(input_encoded)\n",
    "    x = UpSampling2D((2, 2))(x)\n",
    "    x = Conv2D(128, (2, 2), activation=\"relu\", padding=\"same\")(x)\n",
    "    x = UpSampling2D((2, 2))(x)\n",
    "    decoded = Conv2D(1, (7, 7), activation=\"sigmoid\", padding=\"same\")(x)\n",
    "\n",
    "    # Models\n",
    "    encoder = Model(input_img, encoded, name=\"encoder\")\n",
    "    decoder = Model(input_encoded, decoded, name=\"decoder\")\n",
    "    autoencoder = Model(input_img, decoder(encoder(input_img)), name=\"autoencoder\")\n",
    "    return encoder, decoder, autoencoder\n",
    "\n",
    "c_encoder, c_decoder, c_autoencoder = create_deep_conv_ae()\n",
    "c_autoencoder.compile(optimizer=\"adam\", loss=\"binary_crossentropy\")\n",
    "\n",
    "c_autoencoder.summary()"
   ]
  },
  {
   "cell_type": "code",
   "execution_count": null,
   "id": "0a250807",
   "metadata": {},
   "outputs": [],
   "source": [
    "c_autoencoder.fit(x_train, x_train,\n",
    "                epochs=64,\n",
    "                batch_size=256,\n",
    "                shuffle=True,\n",
    "                validation_data=(x_test, x_test))"
   ]
  },
  {
   "cell_type": "code",
   "execution_count": null,
   "id": "9c1863e3",
   "metadata": {},
   "outputs": [],
   "source": [
    "n = 10\n",
    "\n",
    "imgs = x_test[:n]\n",
    "encoded_imgs = c_encoder.predict(imgs, batch_size=n)\n",
    "decoded_imgs = c_decoder.predict(encoded_imgs, batch_size=n)\n",
    "\n",
    "plot_digits(imgs, decoded_imgs)"
   ]
  },
  {
   "cell_type": "markdown",
   "id": "affe91cb",
   "metadata": {},
   "source": [
    "## Denoising AE"
   ]
  },
  {
   "cell_type": "code",
   "execution_count": 27,
   "id": "32280114",
   "metadata": {},
   "outputs": [
    {
     "name": "stdout",
     "output_type": "stream",
     "text": [
      "Model: \"denoiser\"\n",
      "_________________________________________________________________\n",
      " Layer (type)                Output Shape              Param #   \n",
      "=================================================================\n",
      " input_15 (InputLayer)       [(16, 28, 28, 1)]         0         \n",
      "                                                                 \n",
      " noiser (Functional)         (16, 28, 28, 1)           0         \n",
      "                                                                 \n",
      " autoencoder (Functional)    (None, 28, 28, 1)         77665     \n",
      "                                                                 \n",
      "=================================================================\n",
      "Total params: 77,665\n",
      "Trainable params: 77,665\n",
      "Non-trainable params: 0\n",
      "_________________________________________________________________\n"
     ]
    }
   ],
   "source": [
    "batch_size = 16\n",
    "\n",
    "def create_denoising_model(autoencoder):\n",
    "    def add_noise(x):\n",
    "        noise_factor = 0.5\n",
    "        x = x + K.random_normal(x.get_shape(), 0.5, noise_factor)\n",
    "        x = K.clip(x, 0., 1.)\n",
    "        return x\n",
    "\n",
    "    input_img  = Input(batch_shape=(batch_size, 28, 28, 1))\n",
    "    noised_img = Lambda(add_noise)(input_img)\n",
    "\n",
    "    noiser = Model(input_img, noised_img, name=\"noiser\")\n",
    "    denoiser_model = Model(input_img, autoencoder(noiser(input_img)), name=\"denoiser\")\n",
    "    return noiser, denoiser_model\n",
    "\n",
    "\n",
    "noiser, denoiser_model = create_denoising_model(autoencoder)\n",
    "denoiser_model.compile(optimizer=\"adam\", loss=\"binary_crossentropy\")\n",
    "\n",
    "denoiser_model.summary()"
   ]
  },
  {
   "cell_type": "code",
   "execution_count": null,
   "id": "6abc0d7b",
   "metadata": {
    "scrolled": false
   },
   "outputs": [],
   "source": [
    "denoiser_model.fit(x_train, x_train,\n",
    "                   epochs=200,\n",
    "                   batch_size=batch_size,\n",
    "                   shuffle=True,\n",
    "                   validation_data=(x_test, x_test))"
   ]
  },
  {
   "cell_type": "code",
   "execution_count": null,
   "id": "d6ef15af",
   "metadata": {},
   "outputs": [],
   "source": [
    "n = 10\n",
    "\n",
    "imgs = x_test[:batch_size]\n",
    "noised_imgs = noiser.predict(imgs, batch_size=batch_size)\n",
    "encoded_imgs = encoder.predict(noised_imgs[:n],  batch_size=n)\n",
    "decoded_imgs = decoder.predict(encoded_imgs[:n], batch_size=n)\n",
    "\n",
    "plot_digits(imgs[:n], noised_imgs, decoded_imgs)"
   ]
  }
 ],
 "metadata": {
  "kernelspec": {
   "display_name": "Python 3 (ipykernel)",
   "language": "python",
   "name": "python3"
  },
  "language_info": {
   "codemirror_mode": {
    "name": "ipython",
    "version": 3
   },
   "file_extension": ".py",
   "mimetype": "text/x-python",
   "name": "python",
   "nbconvert_exporter": "python",
   "pygments_lexer": "ipython3",
   "version": "3.10.4"
  }
 },
 "nbformat": 4,
 "nbformat_minor": 5
}
